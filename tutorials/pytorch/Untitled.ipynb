{
 "cells": [
  {
   "cell_type": "code",
   "execution_count": 1,
   "metadata": {},
   "outputs": [],
   "source": [
    "import torch"
   ]
  },
  {
   "cell_type": "code",
   "execution_count": 2,
   "metadata": {},
   "outputs": [],
   "source": [
    "# jupyter notebook shift+tab: detail view e.g. parameters info, type, and so on."
   ]
  },
  {
   "cell_type": "code",
   "execution_count": 3,
   "metadata": {},
   "outputs": [
    {
     "name": "stdout",
     "output_type": "stream",
     "text": [
      "tensor([[1., 1.],\n",
      "        [1., 1.]], requires_grad=True)\n",
      "tensor([[1., 1.],\n",
      "        [1., 1.]])\n",
      "tensor([1.], requires_grad=True)\n",
      "tensor([[3., 3.],\n",
      "        [3., 3.]], grad_fn=<AddBackward0>)\n",
      "tensor([[3., 3.],\n",
      "        [3., 3.]])\n",
      "tensor([3.], grad_fn=<AddBackward0>)\n"
     ]
    }
   ],
   "source": [
    "x = torch.ones(2, 2, requires_grad=True)\n",
    "x2 = torch.ones(2, 2)\n",
    "x3 = torch.ones(1, requires_grad=True)\n",
    "print(x)\n",
    "print(x2)\n",
    "print(x3)\n",
    "y = x + 2 # grad_fn is attached to only when any operand's requires_grad=True for calculating the derivatives. \n",
    "y2 = x2 + 2\n",
    "y3 = x3 + 2\n",
    "print(y)\n",
    "print(y2)\n",
    "print(y3)"
   ]
  },
  {
   "cell_type": "code",
   "execution_count": 4,
   "metadata": {},
   "outputs": [
    {
     "name": "stdout",
     "output_type": "stream",
     "text": [
      "True\n",
      "False\n",
      "True\n"
     ]
    }
   ],
   "source": [
    "print(y.requires_grad)\n",
    "print(y2.requires_grad)\n",
    "print(y3.requires_grad)"
   ]
  },
  {
   "cell_type": "code",
   "execution_count": 5,
   "metadata": {},
   "outputs": [],
   "source": [
    "# x3.grad.data.zero_()"
   ]
  },
  {
   "cell_type": "code",
   "execution_count": 6,
   "metadata": {},
   "outputs": [
    {
     "name": "stdout",
     "output_type": "stream",
     "text": [
      "tensor([1.])\n"
     ]
    }
   ],
   "source": [
    "y3.backward()\n",
    "print(x3.grad)\n",
    "# On graph x -> y -> l, calling y.backward(dl/dy) propagate dl/dx to x."
   ]
  },
  {
   "cell_type": "code",
   "execution_count": 7,
   "metadata": {},
   "outputs": [
    {
     "name": "stdout",
     "output_type": "stream",
     "text": [
      "torch.Size([2, 2])\n",
      "torch.Size([2, 2])\n"
     ]
    }
   ],
   "source": [
    "print(x.size())\n",
    "print(x.shape)"
   ]
  },
  {
   "cell_type": "code",
   "execution_count": 17,
   "metadata": {},
   "outputs": [],
   "source": []
  },
  {
   "cell_type": "code",
   "execution_count": 20,
   "metadata": {},
   "outputs": [
    {
     "name": "stdout",
     "output_type": "stream",
     "text": [
      "tensor([[1., 2., 3.],\n",
      "        [4., 5., 6.]], requires_grad=True) True None\n",
      "tensor([[0., 0., 0.],\n",
      "        [0., 0., 0.]]) False None\n",
      "tensor(21., grad_fn=<SumBackward0>) True None\n",
      "tensor(42., grad_fn=<MulBackward0>) True None\n"
     ]
    }
   ],
   "source": [
    "a = torch.tensor([[1.,2.,3.], [4.,5.,6.]], requires_grad=True)\n",
    "b = torch.zeros(2, 3)\n",
    "y = torch.sum(a+b)\n",
    "z = 2 * y\n",
    "print(a, a.requires_grad, a.grad)\n",
    "print(b, b.requires_grad, b.grad)\n",
    "print(y, y.requires_grad, y.grad)\n",
    "print(z, z.requires_grad, z.grad)"
   ]
  },
  {
   "cell_type": "code",
   "execution_count": 26,
   "metadata": {},
   "outputs": [
    {
     "name": "stdout",
     "output_type": "stream",
     "text": [
      "tensor(9.8929) False None\n",
      "tensor(9.8929, requires_grad=True) True None\n",
      "tensor(9.8929, requires_grad=True) True tensor(1.)\n"
     ]
    }
   ],
   "source": [
    "c = torch.randn(2,3)\n",
    "d = torch.randn(2,3)\n",
    "e = torch.sum(c + d)\n",
    "print(e, e.requires_grad, e.grad)\n",
    "e.requires_grad_()\n",
    "print(e, e.requires_grad, e.grad)\n",
    "e.backward()\n",
    "print(e, e.requires_grad, e.grad)"
   ]
  },
  {
   "cell_type": "code",
   "execution_count": 27,
   "metadata": {},
   "outputs": [
    {
     "name": "stdout",
     "output_type": "stream",
     "text": [
      "tensor([[1., 2., 3.],\n",
      "        [4., 5., 6.]], requires_grad=True) True None\n",
      "tensor([[0., 0., 0.],\n",
      "        [0., 0., 0.]]) False None\n",
      "tensor(21.) False None\n",
      "tensor(42., grad_fn=<MulBackward0>) True None\n"
     ]
    }
   ],
   "source": [
    "y.detach_()\n",
    "print(a, a.requires_grad, a.grad)\n",
    "print(b, b.requires_grad, b.grad)\n",
    "print(y, y.requires_grad, y.grad)\n",
    "print(z, z.requires_grad, z.grad)"
   ]
  },
  {
   "cell_type": "code",
   "execution_count": 28,
   "metadata": {},
   "outputs": [
    {
     "name": "stdout",
     "output_type": "stream",
     "text": [
      "tensor([[1., 2., 3.],\n",
      "        [4., 5., 6.]], requires_grad=True) True tensor([[2., 2., 2.],\n",
      "        [2., 2., 2.]])\n",
      "tensor([[0., 0., 0.],\n",
      "        [0., 0., 0.]]) False None\n",
      "tensor(21.) False None\n",
      "tensor(42., grad_fn=<MulBackward0>) True None\n"
     ]
    }
   ],
   "source": [
    "z.backward()\n",
    "print(a, a.requires_grad, a.grad)\n",
    "print(b, b.requires_grad, b.grad)\n",
    "print(y, y.requires_grad, y.grad)\n",
    "print(z, z.requires_grad, z.grad)"
   ]
  },
  {
   "cell_type": "code",
   "execution_count": 31,
   "metadata": {},
   "outputs": [
    {
     "name": "stdout",
     "output_type": "stream",
     "text": [
      "tensor([[1., 2., 3.],\n",
      "        [4., 5., 6.]], requires_grad=True) True None\n",
      "tensor([[0., 0., 0.],\n",
      "        [0., 0., 0.]]) False None\n",
      "tensor(21.) False None\n",
      "tensor(42., requires_grad=True) True None\n"
     ]
    }
   ],
   "source": [
    "a = torch.tensor([[1.,2.,3.], [4.,5.,6.]], requires_grad=True)\n",
    "b = torch.zeros(2, 3)\n",
    "y = torch.sum(a+b)\n",
    "y.detach_()\n",
    "z = 2 * y\n",
    "z.requires_grad_()\n",
    "print(a, a.requires_grad, a.grad)\n",
    "print(b, b.requires_grad, b.grad)\n",
    "print(y, y.requires_grad, y.grad)\n",
    "print(z, z.requires_grad, z.grad)"
   ]
  },
  {
   "cell_type": "code",
   "execution_count": 32,
   "metadata": {},
   "outputs": [
    {
     "name": "stdout",
     "output_type": "stream",
     "text": [
      "tensor([[1., 2., 3.],\n",
      "        [4., 5., 6.]], requires_grad=True) True None\n",
      "tensor([[0., 0., 0.],\n",
      "        [0., 0., 0.]]) False None\n",
      "tensor(21.) False None\n",
      "tensor(42., requires_grad=True) True tensor(1.)\n"
     ]
    }
   ],
   "source": [
    "z.backward()\n",
    "print(a, a.requires_grad, a.grad)\n",
    "print(b, b.requires_grad, b.grad)\n",
    "print(y, y.requires_grad, y.grad)\n",
    "print(z, z.requires_grad, z.grad)"
   ]
  },
  {
   "cell_type": "code",
   "execution_count": 34,
   "metadata": {},
   "outputs": [
    {
     "name": "stdout",
     "output_type": "stream",
     "text": [
      "True\n",
      "False\n",
      "True\n"
     ]
    },
    {
     "ename": "AttributeError",
     "evalue": "'NoneType' object has no attribute 'detach_'",
     "output_type": "error",
     "traceback": [
      "\u001b[0;31m---------------------------------------------------------------------------\u001b[0m",
      "\u001b[0;31mAttributeError\u001b[0m                            Traceback (most recent call last)",
      "\u001b[0;32m<ipython-input-34-9f80fb2e375e>\u001b[0m in \u001b[0;36m<module>\u001b[0;34m\u001b[0m\n\u001b[1;32m      5\u001b[0m \u001b[0mqq\u001b[0m \u001b[0;34m=\u001b[0m \u001b[0mtorch\u001b[0m\u001b[0;34m.\u001b[0m\u001b[0mtensor\u001b[0m\u001b[0;34m(\u001b[0m\u001b[0;34m[\u001b[0m\u001b[0;36m1.\u001b[0m\u001b[0;34m]\u001b[0m\u001b[0;34m,\u001b[0m \u001b[0mrequires_grad\u001b[0m\u001b[0;34m=\u001b[0m\u001b[0;32mTrue\u001b[0m\u001b[0;34m)\u001b[0m\u001b[0;34m\u001b[0m\u001b[0;34m\u001b[0m\u001b[0m\n\u001b[1;32m      6\u001b[0m \u001b[0mprint\u001b[0m\u001b[0;34m(\u001b[0m\u001b[0mqq\u001b[0m\u001b[0;34m.\u001b[0m\u001b[0mrequires_grad\u001b[0m\u001b[0;34m)\u001b[0m\u001b[0;34m\u001b[0m\u001b[0;34m\u001b[0m\u001b[0m\n\u001b[0;32m----> 7\u001b[0;31m \u001b[0mqq\u001b[0m\u001b[0;34m.\u001b[0m\u001b[0mgrad\u001b[0m\u001b[0;34m.\u001b[0m\u001b[0mdetach_\u001b[0m\u001b[0;34m(\u001b[0m\u001b[0;34m)\u001b[0m\u001b[0;34m\u001b[0m\u001b[0;34m\u001b[0m\u001b[0m\n\u001b[0m\u001b[1;32m      8\u001b[0m \u001b[0mprint\u001b[0m\u001b[0;34m(\u001b[0m\u001b[0mqq\u001b[0m\u001b[0;34m.\u001b[0m\u001b[0mrequires_grad\u001b[0m\u001b[0;34m)\u001b[0m\u001b[0;34m\u001b[0m\u001b[0;34m\u001b[0m\u001b[0m\n",
      "\u001b[0;31mAttributeError\u001b[0m: 'NoneType' object has no attribute 'detach_'"
     ]
    }
   ],
   "source": [
    "q = torch.tensor([1.], requires_grad=True)\n",
    "print(q.requires_grad)\n",
    "q.detach_()\n",
    "print(q.requires_grad)\n",
    "qq = torch.tensor([1.], requires_grad=True)\n",
    "print(qq.requires_grad)\n",
    "qq.grad.detach_()\n",
    "print(qq.requires_grad)"
   ]
  },
  {
   "cell_type": "code",
   "execution_count": 35,
   "metadata": {},
   "outputs": [
    {
     "data": {
      "text/plain": [
       "False"
      ]
     },
     "execution_count": 35,
     "metadata": {},
     "output_type": "execute_result"
    }
   ],
   "source": [
    "z.grad.requires_grad"
   ]
  },
  {
   "cell_type": "code",
   "execution_count": 36,
   "metadata": {},
   "outputs": [
    {
     "name": "stdout",
     "output_type": "stream",
     "text": [
      "tensor([[1., 2., 3.],\n",
      "        [4., 5., 6.]], requires_grad=True) True None\n",
      "tensor([[0., 0., 0.],\n",
      "        [0., 0., 0.]]) False None\n",
      "tensor(21., grad_fn=<SumBackward0>) True None\n",
      "tensor(42., grad_fn=<MulBackward0>) True None\n"
     ]
    }
   ],
   "source": [
    "a = torch.tensor([[1.,2.,3.], [4.,5.,6.]], requires_grad=True)\n",
    "b = torch.zeros(2, 3)\n",
    "y = torch.sum(a+b)\n",
    "z = 2 * y\n",
    "print(a, a.requires_grad, a.grad)\n",
    "print(b, b.requires_grad, b.grad)\n",
    "print(y, y.requires_grad, y.grad)\n",
    "print(z, z.requires_grad, z.grad)"
   ]
  },
  {
   "cell_type": "code",
   "execution_count": 39,
   "metadata": {},
   "outputs": [
    {
     "name": "stdout",
     "output_type": "stream",
     "text": [
      "tensor([[1., 2., 3.],\n",
      "        [4., 5., 6.]], requires_grad=True) True tensor([[2., 2., 2.],\n",
      "        [2., 2., 2.]])\n",
      "tensor([[0., 0., 0.],\n",
      "        [0., 0., 0.]]) False None\n",
      "tensor(21., grad_fn=<SumBackward0>) True None\n",
      "tensor(42., grad_fn=<MulBackward0>) True None\n"
     ]
    }
   ],
   "source": [
    "z.backward()\n",
    "print(a, a.requires_grad, a.grad)\n",
    "print(b, b.requires_grad, b.grad)\n",
    "print(y, y.requires_grad, y.grad)  # y,z의 gradient: 역전파를 위해 추적은 하되, 매개변수 업데이트에 쓰이는 애들이 아니니까 따로 저장하지 않음\n",
    "print(z, z.requires_grad, z.grad)"
   ]
  },
  {
   "cell_type": "code",
   "execution_count": 41,
   "metadata": {},
   "outputs": [
    {
     "ename": "AttributeError",
     "evalue": "'NoneType' object has no attribute 'requires_grad'",
     "output_type": "error",
     "traceback": [
      "\u001b[0;31m---------------------------------------------------------------------------\u001b[0m",
      "\u001b[0;31mAttributeError\u001b[0m                            Traceback (most recent call last)",
      "\u001b[0;32m<ipython-input-41-a089df3f07b1>\u001b[0m in \u001b[0;36m<module>\u001b[0;34m\u001b[0m\n\u001b[0;32m----> 1\u001b[0;31m \u001b[0my\u001b[0m\u001b[0;34m.\u001b[0m\u001b[0mgrad\u001b[0m\u001b[0;34m.\u001b[0m\u001b[0mrequires_grad\u001b[0m\u001b[0;34m\u001b[0m\u001b[0;34m\u001b[0m\u001b[0m\n\u001b[0m",
      "\u001b[0;31mAttributeError\u001b[0m: 'NoneType' object has no attribute 'requires_grad'"
     ]
    }
   ],
   "source": []
  }
 ],
 "metadata": {
  "kernelspec": {
   "display_name": "Python 3",
   "language": "python",
   "name": "python3"
  },
  "language_info": {
   "codemirror_mode": {
    "name": "ipython",
    "version": 3
   },
   "file_extension": ".py",
   "mimetype": "text/x-python",
   "name": "python",
   "nbconvert_exporter": "python",
   "pygments_lexer": "ipython3",
   "version": "3.6.9"
  }
 },
 "nbformat": 4,
 "nbformat_minor": 2
}
